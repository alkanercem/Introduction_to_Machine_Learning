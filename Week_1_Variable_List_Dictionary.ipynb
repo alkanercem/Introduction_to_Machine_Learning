{
 "cells": [
  {
   "cell_type": "code",
   "execution_count": 1,
   "id": "ad348a02",
   "metadata": {},
   "outputs": [],
   "source": [
    "var1 = 20\n",
    "var2 = 30\n",
    "\n",
    "gun = \"salı\"\n",
    "\n",
    "var3 = 12.5 "
   ]
  },
  {
   "cell_type": "code",
   "execution_count": 18,
   "id": "85f52a1e",
   "metadata": {},
   "outputs": [
    {
     "data": {
      "text/plain": [
       "list"
      ]
     },
     "execution_count": 18,
     "metadata": {},
     "output_type": "execute_result"
    }
   ],
   "source": [
    "list_int = [10,20,30,40,50,60,70]\n",
    "type(list_int)"
   ]
  },
  {
   "cell_type": "code",
   "execution_count": 11,
   "id": "a341e8ed",
   "metadata": {},
   "outputs": [
    {
     "name": "stdout",
     "output_type": "stream",
     "text": [
      "10\n"
     ]
    }
   ],
   "source": [
    "value = list_int[0]\n",
    "print(value)"
   ]
  },
  {
   "cell_type": "code",
   "execution_count": 12,
   "id": "9d9bd9d5",
   "metadata": {},
   "outputs": [
    {
     "data": {
      "text/plain": [
       "10"
      ]
     },
     "execution_count": 12,
     "metadata": {},
     "output_type": "execute_result"
    }
   ],
   "source": [
    "value"
   ]
  },
  {
   "cell_type": "code",
   "execution_count": 13,
   "id": "15ef60af",
   "metadata": {},
   "outputs": [
    {
     "data": {
      "text/plain": [
       "70"
      ]
     },
     "execution_count": 13,
     "metadata": {},
     "output_type": "execute_result"
    }
   ],
   "source": [
    "list_int[-1]"
   ]
  },
  {
   "cell_type": "code",
   "execution_count": 14,
   "id": "00af4fd5",
   "metadata": {},
   "outputs": [
    {
     "data": {
      "text/plain": [
       "[10, 20, 30]"
      ]
     },
     "execution_count": 14,
     "metadata": {},
     "output_type": "execute_result"
    }
   ],
   "source": [
    "list_int[0:3]"
   ]
  },
  {
   "cell_type": "code",
   "execution_count": 15,
   "id": "4be5895e",
   "metadata": {},
   "outputs": [
    {
     "data": {
      "text/plain": [
       "['__add__',\n",
       " '__class__',\n",
       " '__class_getitem__',\n",
       " '__contains__',\n",
       " '__delattr__',\n",
       " '__delitem__',\n",
       " '__dir__',\n",
       " '__doc__',\n",
       " '__eq__',\n",
       " '__format__',\n",
       " '__ge__',\n",
       " '__getattribute__',\n",
       " '__getitem__',\n",
       " '__gt__',\n",
       " '__hash__',\n",
       " '__iadd__',\n",
       " '__imul__',\n",
       " '__init__',\n",
       " '__init_subclass__',\n",
       " '__iter__',\n",
       " '__le__',\n",
       " '__len__',\n",
       " '__lt__',\n",
       " '__mul__',\n",
       " '__ne__',\n",
       " '__new__',\n",
       " '__reduce__',\n",
       " '__reduce_ex__',\n",
       " '__repr__',\n",
       " '__reversed__',\n",
       " '__rmul__',\n",
       " '__setattr__',\n",
       " '__setitem__',\n",
       " '__sizeof__',\n",
       " '__str__',\n",
       " '__subclasshook__',\n",
       " 'append',\n",
       " 'clear',\n",
       " 'copy',\n",
       " 'count',\n",
       " 'extend',\n",
       " 'index',\n",
       " 'insert',\n",
       " 'pop',\n",
       " 'remove',\n",
       " 'reverse',\n",
       " 'sort']"
      ]
     },
     "execution_count": 15,
     "metadata": {},
     "output_type": "execute_result"
    }
   ],
   "source": [
    "dir(list_int)"
   ]
  },
  {
   "cell_type": "code",
   "execution_count": 19,
   "id": "3a5f4d5c",
   "metadata": {},
   "outputs": [
    {
     "name": "stdout",
     "output_type": "stream",
     "text": [
      "[10, 20, 30, 40, 50, 60, 70, 80]\n"
     ]
    }
   ],
   "source": [
    "list_int.append(80)\n",
    "print(list_int)"
   ]
  },
  {
   "cell_type": "code",
   "execution_count": 20,
   "id": "fc075f88",
   "metadata": {},
   "outputs": [
    {
     "name": "stdout",
     "output_type": "stream",
     "text": [
      "[20, 30, 40, 50, 60, 70, 80]\n"
     ]
    }
   ],
   "source": [
    "list_int.remove(10)\n",
    "print(list_int)"
   ]
  },
  {
   "cell_type": "code",
   "execution_count": 21,
   "id": "a28605cc",
   "metadata": {},
   "outputs": [
    {
     "name": "stdout",
     "output_type": "stream",
     "text": [
      "[80, 70, 60, 50, 40, 30, 20]\n"
     ]
    }
   ],
   "source": [
    "list_int.reverse()\n",
    "print(list_int)"
   ]
  },
  {
   "cell_type": "code",
   "execution_count": 22,
   "id": "f2f19277",
   "metadata": {},
   "outputs": [
    {
     "name": "stdout",
     "output_type": "stream",
     "text": [
      "[20, 30, 40, 50, 60, 70, 80]\n"
     ]
    }
   ],
   "source": [
    "list_int.sort()\n",
    "print(list_int)"
   ]
  },
  {
   "cell_type": "code",
   "execution_count": 27,
   "id": "95e0065e",
   "metadata": {},
   "outputs": [
    {
     "name": "stdout",
     "output_type": "stream",
     "text": [
      "10\n",
      "20\n",
      "30\n",
      "40\n",
      "50\n",
      "60\n",
      "70\n",
      "80\n"
     ]
    }
   ],
   "source": [
    "for each in range (10,90,10):\n",
    "    print (each)"
   ]
  },
  {
   "cell_type": "code",
   "execution_count": 29,
   "id": "dbee7302",
   "metadata": {},
   "outputs": [
    {
     "data": {
      "text/plain": [
       "1000"
      ]
     },
     "execution_count": 29,
     "metadata": {},
     "output_type": "execute_result"
    }
   ],
   "source": [
    "list2 = [100,200,300,400]\n",
    "sum(list2)"
   ]
  },
  {
   "cell_type": "code",
   "execution_count": 30,
   "id": "607b507e",
   "metadata": {},
   "outputs": [
    {
     "data": {
      "text/plain": [
       "100"
      ]
     },
     "execution_count": 30,
     "metadata": {},
     "output_type": "execute_result"
    }
   ],
   "source": [
    "min(list2)"
   ]
  },
  {
   "cell_type": "code",
   "execution_count": 31,
   "id": "9d7a7399",
   "metadata": {},
   "outputs": [
    {
     "name": "stdout",
     "output_type": "stream",
     "text": [
      "100\n"
     ]
    }
   ],
   "source": [
    "minumum=10000\n",
    "\n",
    "for each in list2:\n",
    "    if (each<minumum):\n",
    "        minumum = each\n",
    "    else:\n",
    "        continue\n",
    "        \n",
    "print(minumum)\n"
   ]
  },
  {
   "cell_type": "code",
   "execution_count": 32,
   "id": "c890b7c1",
   "metadata": {},
   "outputs": [
    {
     "name": "stdout",
     "output_type": "stream",
     "text": [
      "0\n",
      "1\n",
      "2\n",
      "3\n",
      "4\n",
      "5\n",
      "6\n",
      "7\n"
     ]
    }
   ],
   "source": [
    "i=0\n",
    "\n",
    "while (i<8):\n",
    "    print(i)\n",
    "    i=i+1"
   ]
  },
  {
   "cell_type": "code",
   "execution_count": 36,
   "id": "2f82154e",
   "metadata": {},
   "outputs": [
    {
     "data": {
      "text/plain": [
       "50.24"
      ]
     },
     "execution_count": 36,
     "metadata": {},
     "output_type": "execute_result"
    }
   ],
   "source": [
    "def circle_Perimeter(r,pi=3.14):\n",
    "\n",
    "    \"\"\"\n",
    "    circle_Perimeter\n",
    "    \n",
    "    parameters: r,pi\n",
    "    \n",
    "    output: Perimeter of circle\n",
    "    \n",
    "    \"\"\"\n",
    "    output = 2*pi*r\n",
    "    return output\n",
    "\n",
    "circle_Perimeter(8)"
   ]
  },
  {
   "cell_type": "code",
   "execution_count": 38,
   "id": "3b6189bc",
   "metadata": {},
   "outputs": [
    {
     "name": "stdout",
     "output_type": "stream",
     "text": [
      "25\n",
      "100\n"
     ]
    }
   ],
   "source": [
    "def calculate(x):\n",
    "    \n",
    "    output = x*x\n",
    "    return output\n",
    "\n",
    "result1 = calculate(5)\n",
    "\n",
    "result2 = lambda x: x*x\n",
    "\n",
    "print(result1)\n",
    "print(result2(10))\n"
   ]
  },
  {
   "cell_type": "code",
   "execution_count": 49,
   "id": "19f6b8bb",
   "metadata": {},
   "outputs": [],
   "source": [
    "dictionary = {\"Ercem\":24, \"Yunus\":24, \"Eren\":22}"
   ]
  },
  {
   "cell_type": "code",
   "execution_count": 50,
   "id": "515dded7",
   "metadata": {},
   "outputs": [
    {
     "data": {
      "text/plain": [
       "24"
      ]
     },
     "execution_count": 50,
     "metadata": {},
     "output_type": "execute_result"
    }
   ],
   "source": [
    "dictionary[\"Ercem\"]"
   ]
  },
  {
   "cell_type": "code",
   "execution_count": 54,
   "id": "2db2eeb7",
   "metadata": {},
   "outputs": [
    {
     "data": {
      "text/plain": [
       "dict_keys(['Ercem', 'Yunus', 'Eren'])"
      ]
     },
     "execution_count": 54,
     "metadata": {},
     "output_type": "execute_result"
    }
   ],
   "source": [
    "dictionary.keys()"
   ]
  },
  {
   "cell_type": "code",
   "execution_count": 55,
   "id": "f1120555",
   "metadata": {},
   "outputs": [
    {
     "data": {
      "text/plain": [
       "dict_values([24, 24, 22])"
      ]
     },
     "execution_count": 55,
     "metadata": {},
     "output_type": "execute_result"
    }
   ],
   "source": [
    "dictionary.values()"
   ]
  },
  {
   "cell_type": "code",
   "execution_count": 57,
   "id": "9b4cb1a0",
   "metadata": {},
   "outputs": [],
   "source": [
    "def dct():\n",
    "    \n",
    "    dictionary = {\"Ercem\":24, \"Yunus\":24, \"Eren\":22}\n",
    "    \n",
    "    return dictionary\n",
    "\n",
    "var4 = dct()"
   ]
  },
  {
   "cell_type": "code",
   "execution_count": 58,
   "id": "2a255c1b",
   "metadata": {},
   "outputs": [
    {
     "name": "stdout",
     "output_type": "stream",
     "text": [
      "{'Ercem': 24, 'Yunus': 24, 'Eren': 22}\n"
     ]
    }
   ],
   "source": [
    "print(var4)"
   ]
  },
  {
   "cell_type": "code",
   "execution_count": 59,
   "id": "55874a94",
   "metadata": {},
   "outputs": [
    {
     "name": "stdout",
     "output_type": "stream",
     "text": [
      "yes\n"
     ]
    }
   ],
   "source": [
    "keys = dictionary.keys()\n",
    "\n",
    "if \"Ercem\" in keys:\n",
    "    print(\"yes\")\n",
    "else:\n",
    "    print(\"no\")"
   ]
  },
  {
   "cell_type": "code",
   "execution_count": null,
   "id": "1ca7f97b",
   "metadata": {},
   "outputs": [],
   "source": []
  }
 ],
 "metadata": {
  "kernelspec": {
   "display_name": "Python 3 (ipykernel)",
   "language": "python",
   "name": "python3"
  },
  "language_info": {
   "codemirror_mode": {
    "name": "ipython",
    "version": 3
   },
   "file_extension": ".py",
   "mimetype": "text/x-python",
   "name": "python",
   "nbconvert_exporter": "python",
   "pygments_lexer": "ipython3",
   "version": "3.9.13"
  }
 },
 "nbformat": 4,
 "nbformat_minor": 5
}
